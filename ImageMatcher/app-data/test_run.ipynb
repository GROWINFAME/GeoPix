{
 "cells": [
  {
   "cell_type": "code",
   "execution_count": 1,
   "metadata": {
    "ExecuteTime": {
     "end_time": "2024-06-15T15:22:09.651472Z",
     "start_time": "2024-06-15T15:22:08.902746Z"
    },
    "collapsed": true
   },
   "outputs": [],
   "source": [
    "import os\n",
    "from main_module import MainModule\n"
   ]
  },
  {
   "cell_type": "code",
   "execution_count": null,
   "metadata": {},
   "outputs": [],
   "source": []
  },
  {
   "cell_type": "code",
   "execution_count": null,
   "metadata": {
    "ExecuteTime": {
     "end_time": "2024-06-15T15:22:10.472297Z",
     "start_time": "2024-06-15T15:22:10.452876Z"
    },
    "collapsed": false
   },
   "outputs": [],
   "source": [
    "main_module = MainModule(output_save_dir='B:\\PerfectSolution') # результаты сохраняются в final_coords.csv в автоматически создаваемую папку submission\n",
    "# volume 1\n"
   ]
  },
  {
   "cell_type": "code",
   "execution_count": 3,
   "metadata": {
    "ExecuteTime": {
     "end_time": "2024-06-15T15:22:12.128158Z",
     "start_time": "2024-06-15T15:22:12.114912Z"
    },
    "collapsed": false
   },
   "outputs": [],
   "source": [
    "base_dir = \"B:\\\\Hackathon\\\\18. Sitronics\\\\Dataset\" # путь к общей папке датасета\n",
    "scene_name = \"crop_0_0_0000.tif\"\n",
    "layout_name = \"layout_2021-06-15.tif\"\n",
    "layout_path = os.path.join(base_dir, \"layouts\", layout_name) # путь к папке со сценами # volume 2\n",
    "scene_path = os.path.join(base_dir, \"1_20\", scene_name) # путь к папке с подложками\n"
   ]
  },
  {
   "cell_type": "code",
   "execution_count": null,
   "metadata": {
    "ExecuteTime": {
     "end_time": "2024-06-15T15:22:35.800042Z",
     "start_time": "2024-06-15T15:22:17.523107Z"
    },
    "collapsed": false
   },
   "outputs": [],
   "source": [
    "main_module.make_matching(scene_path=scene_path,\n",
    "                          layout_path=layout_path)\n"
   ]
  },
  {
   "cell_type": "code",
   "execution_count": 1,
   "metadata": {},
   "outputs": [],
   "source": [
    "a = b\"212\"\n"
   ]
  },
  {
   "cell_type": "code",
   "execution_count": null,
   "metadata": {},
   "outputs": [],
   "source": [
    "# input\n",
    "{\"crop\": \"bytes\", \"layout_name\": \"podlozhka_name\"}\n"
   ]
  },
  {
   "cell_type": "code",
   "execution_count": null,
   "metadata": {},
   "outputs": [],
   "source": [
    "{\"result\": \"json\", \"commentary\": \"All results also saved in coords.csv\"}\n"
   ]
  },
  {
   "cell_type": "code",
   "execution_count": 5,
   "metadata": {},
   "outputs": [],
   "source": [
    "with open(\"crop.tif\", 'wb') as f:\n",
    "    f.write(a)\n"
   ]
  },
  {
   "cell_type": "code",
   "execution_count": 1,
   "metadata": {},
   "outputs": [],
   "source": [
    "import os\n"
   ]
  },
  {
   "cell_type": "code",
   "execution_count": 2,
   "metadata": {},
   "outputs": [
    {
     "data": {
      "text/plain": [
       "'folder'"
      ]
     },
     "execution_count": 2,
     "metadata": {},
     "output_type": "execute_result"
    }
   ],
   "source": [
    "os.path.join(\"folder\")\n"
   ]
  },
  {
   "cell_type": "code",
   "execution_count": 1,
   "metadata": {},
   "outputs": [
    {
     "ename": "SyntaxError",
     "evalue": "f-string: unmatched '(' (2183848919.py, line 1)",
     "output_type": "error",
     "traceback": [
      "\u001b[1;36m  Cell \u001b[1;32mIn[1], line 1\u001b[1;36m\u001b[0m\n\u001b[1;33m    f\"{'hey'.rstrip(\".tif\")}.csv\"\u001b[0m\n\u001b[1;37m                     ^\u001b[0m\n\u001b[1;31mSyntaxError\u001b[0m\u001b[1;31m:\u001b[0m f-string: unmatched '('\n"
     ]
    }
   ],
   "source": [
    "f\"{'hey'.rstrip(\".tif\")}.csv\"\n"
   ]
  },
  {
   "cell_type": "code",
   "execution_count": 2,
   "metadata": {},
   "outputs": [
    {
     "data": {
      "text/plain": [
       "'hey.csv'"
      ]
     },
     "execution_count": 2,
     "metadata": {},
     "output_type": "execute_result"
    }
   ],
   "source": [
    "f\"{'hey'.rstrip('.tif')}.csv\"\n"
   ]
  },
  {
   "cell_type": "code",
   "execution_count": null,
   "metadata": {},
   "outputs": [],
   "source": []
  }
 ],
 "metadata": {
  "kernelspec": {
   "display_name": "Python 3",
   "language": "python",
   "name": "python3"
  },
  "language_info": {
   "codemirror_mode": {
    "name": "ipython",
    "version": 3
   },
   "file_extension": ".py",
   "mimetype": "text/x-python",
   "name": "python",
   "nbconvert_exporter": "python",
   "pygments_lexer": "ipython3",
   "version": "3.10.9"
  }
 },
 "nbformat": 4,
 "nbformat_minor": 0
}
