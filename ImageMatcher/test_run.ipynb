{
 "cells": [
  {
   "cell_type": "code",
   "execution_count": 1,
   "metadata": {
    "collapsed": true,
    "ExecuteTime": {
     "start_time": "2024-06-15T15:22:08.902746Z",
     "end_time": "2024-06-15T15:22:09.651472Z"
    }
   },
   "outputs": [],
   "source": [
    "import os\n",
    "from main_module import MainModule"
   ]
  },
  {
   "cell_type": "code",
   "execution_count": 2,
   "outputs": [],
   "source": [
    "main_module = MainModule(output_save_dir='B:\\PerfectSolution') # результаты сохраняются в final_coords.csv в автоматически создаваемую папку submission"
   ],
   "metadata": {
    "collapsed": false,
    "ExecuteTime": {
     "start_time": "2024-06-15T15:22:10.452876Z",
     "end_time": "2024-06-15T15:22:10.472297Z"
    }
   }
  },
  {
   "cell_type": "code",
   "execution_count": 3,
   "outputs": [],
   "source": [
    "base_dir = \"B:\\\\Hackathon\\\\18. Sitronics\\\\Dataset\" # путь к общей папке датасета\n",
    "scene_name = \"crop_0_0_0000.tif\"\n",
    "layout_name = \"layout_2021-06-15.tif\"\n",
    "layout_path = os.path.join(base_dir, \"layouts\", layout_name) # путь к папке со сценами\n",
    "scene_path = os.path.join(base_dir, \"1_20\", scene_name) # путь к папке с подложками"
   ],
   "metadata": {
    "collapsed": false,
    "ExecuteTime": {
     "start_time": "2024-06-15T15:22:12.114912Z",
     "end_time": "2024-06-15T15:22:12.128158Z"
    }
   }
  },
  {
   "cell_type": "code",
   "execution_count": null,
   "outputs": [],
   "source": [
    "main_module.make_matching(scene_path=scene_path,\n",
    "                          layout_path=layout_path)"
   ],
   "metadata": {
    "collapsed": false,
    "ExecuteTime": {
     "start_time": "2024-06-15T15:22:17.523107Z",
     "end_time": "2024-06-15T15:22:35.800042Z"
    }
   }
  }
 ],
 "metadata": {
  "kernelspec": {
   "display_name": "Python 3",
   "language": "python",
   "name": "python3"
  },
  "language_info": {
   "codemirror_mode": {
    "name": "ipython",
    "version": 2
   },
   "file_extension": ".py",
   "mimetype": "text/x-python",
   "name": "python",
   "nbconvert_exporter": "python",
   "pygments_lexer": "ipython2",
   "version": "2.7.6"
  }
 },
 "nbformat": 4,
 "nbformat_minor": 0
}
